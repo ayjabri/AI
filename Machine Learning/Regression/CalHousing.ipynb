{
 "cells": [
  {
   "cell_type": "markdown",
   "metadata": {},
   "source": [
    "# California Housing (1990s)\n",
    "\n",
    "\n",
    "This is a typical dataset used by many books and online courses to demonstrate Machine Learning algorithms. The set contains Housing prices in California from the 1990s, which makes it kinda dated if you're looking to get actual predictions out of it, but that doesn't mean we can't use it to train models and compare them effectively! \n",
    "\n",
    "Without furthur adue, let me start by listing the steps (pipeline) I'm going to follow in this project. It is taken from Aurélien Géron's \"Hands-On Machine Learning with Scikit-Learn, Keras, and TensorFlow\" Appendix B.\n",
    "\n",
    "\n",
    "> \"There are eight main steps:\n",
    "> 1. Frame the problem and look at the big picture.\n",
    "> 2. Get the data.\n",
    "> 3. Explore the data to gain insights.\n",
    "> 4. Prepare the data to better expose the underlying data patterns to Machine Learning algorithms.\n",
    "> 5. Explore many different models and shortlist the best ones.\n",
    "> 6. Fine-tune your models and combine them into a great solution.\n",
    "> 7. Present your solution.\n",
    "> 8. Launch, monitor, and maintain your system.\n",
    "> Obviously, you should feel free to adapt this checklist to your needs.\"\n",
    "\n",
    "Aurélien breaks down each point into smaller steps in Appendix.B of his book. Which is exactly what I'm goign to copy and follow. This is going to be the project's check-list that I'm going to ticking step by step as we go!   \n",
    "But before we start let's import the libraries we're going to use:"
   ]
  },
  {
   "cell_type": "code",
   "execution_count": 1,
   "metadata": {},
   "outputs": [],
   "source": [
    "import os\n",
    "import numpy as np\n",
    "import pandas as pd\n",
    "import matplotlib.pyplot as plt\n",
    "import lib\n",
    "\n",
    "%matplotlib inline"
   ]
  },
  {
   "cell_type": "markdown",
   "metadata": {},
   "source": [
    "## 1. Frame the Problem and Look at the Big Picture:\n",
    "\n",
    "To effectively frame the problem, you need to know the end goal of the project. Where does your model fit in the workflow, and which system/s it will get the data from, and feed results to. More often than not, models' outputs are used as inputs of another apps, which will make the investment decision.  \n",
    "It's very important to understand how the benifits to the company.  \n",
    "\n",
    "In our case, let's assume the problem is to predict `median_house_value` by district as a continuous varialbe and feed it to a downstream system that'll use it -along with other inputs- to form an investement decision. And let's also assume a legacy system does this today using a complicated hard-coded rules. The challange now is to outperform the legacy system in terms of accuracy, speed, generalization or any other goal that justifies this project. Make sure to have measuralbe goals\n",
    "\n",
    "||Supervised | Unsupervised | Reinforcement|\n",
    "|--|--|--|--|\n",
    "|**Calssification**|-|-|-\n",
    "|**Regression**|x|-|-|-\n",
    "|**Batch**|x|-|-|-\n",
    "|**Online**|-|-|-\n",
    "\n",
    "\n",
    "\n",
    "This is clearly a supervised problem as we are given $y$ values in the set, and it's a regression because we're predicting it.  \n",
    "We don't have a continuous flow of data coming into the system to qualify as online training, therefor this is a batch driven process. That said, you can artifically convert this to an online training if the data is huge, and you want to smooth the learning process.\n",
    "\n",
    "### 1.2 Performance Measure:\n",
    "Because the problem is a regression and the output is continuous postitive variable, it's common to use RMSE (Root Mean Square Erro) as a performance measure. It's basically the square-root of MSE, which is known to make the error term more inline with the magnitude of the target.\n",
    "$$MSE = \\frac{1}{n} \\sqrt{\\sum\\limits_{i=1}^n (y_i - \\hat{y_i})^2}$$  \n",
    "$$RMSE = \\sqrt{MSE}$$\n",
    "The downside of MSE & RMSE is that they penalize large errors, and they hard to interperate in the of the target in case you want to communicate the error term. To solve that, you should use MAE if your dataset contains a lot of outliers and/or you'd like to communicate the error term in an explanable unit (USD for example)\n",
    "$$MAE = \\frac{1}{n} \\sum\\limits_{i=1}^n|(y_i - \\hat{y_i})|$$\n",
    "\n",
    "I've written three function in `lib\\utils.py` to calculate each of these performance measures. \n",
    "\n",
    "*Note: performance measures are also used as cost functions in many algorithms. Check this notebook for examples*\n",
    "https://github.com/ayjabri/Regression/blob/main/Linear/Simple/MinCostFunc.ipynb"
   ]
  },
  {
   "cell_type": "markdown",
   "metadata": {},
   "source": [
    "## 2. Get the Data\n",
    "\n",
    "Note: automate as much as possible so you can easily get fresh data.\n",
    "1. List the data you need and how much you need.\n",
    "2. Find and document where you can get that data.\n",
    "3. Check how much space it will take.\n",
    "4. Check legal obligations, and get authorization if necessary.\n",
    "5. Get access authorizations.\n",
    "6. Create a workspace (with enough storage space).\n",
    "7. Get the data.\n",
    "8. Convert the data to a format you can easily manipulate (without changing the\n",
    "data itself).\n",
    "9. Ensure sensitive information is deleted or protected (e.g., anonymized).\n",
    "10. Check the size and type of data (time series, sample, geographical, etc.).\n",
    "11. Sample a test set, put it aside, and never look at it (no data snooping!).\n",
    "\n",
    "I'm going to skip steps 1-6 givin the source and size of the data being studies, and jump to steps 7 & 8 on getting the data!\n",
    "I've written a small function in `lib\\utils.py` to retrive the zipped file from Aeron's github repo, and extract it into Pandas DataFrame. It's very impoortant to automate these step, because in real projects the data is almost always scattered across systems and never ready to use."
   ]
  },
  {
   "cell_type": "code",
   "execution_count": 2,
   "metadata": {},
   "outputs": [],
   "source": [
    "## Uncomment and run this cell only if you want to fetch the file from the internet\n",
    "## Otherwise, there shhould be a `.parquet` copy of it on my Github\n",
    "\n",
    "# URL = 'https://github.com/ageron/handson-ml2/raw/master/datasets/housing'\n",
    "# filename = 'housing.tgz'\n",
    "# data = lib.fetch_online_zip_file(URL, filename, as_frame=True, overwrite=False)\n",
    "# data.head()"
   ]
  },
  {
   "cell_type": "code",
   "execution_count": 3,
   "metadata": {},
   "outputs": [
    {
     "data": {
      "text/html": [
       "<div>\n",
       "<style scoped>\n",
       "    .dataframe tbody tr th:only-of-type {\n",
       "        vertical-align: middle;\n",
       "    }\n",
       "\n",
       "    .dataframe tbody tr th {\n",
       "        vertical-align: top;\n",
       "    }\n",
       "\n",
       "    .dataframe thead th {\n",
       "        text-align: right;\n",
       "    }\n",
       "</style>\n",
       "<table border=\"1\" class=\"dataframe\">\n",
       "  <thead>\n",
       "    <tr style=\"text-align: right;\">\n",
       "      <th></th>\n",
       "      <th>longitude</th>\n",
       "      <th>latitude</th>\n",
       "      <th>housing_median_age</th>\n",
       "      <th>total_rooms</th>\n",
       "      <th>total_bedrooms</th>\n",
       "      <th>population</th>\n",
       "      <th>households</th>\n",
       "      <th>median_income</th>\n",
       "      <th>median_house_value</th>\n",
       "      <th>ocean_proximity</th>\n",
       "    </tr>\n",
       "  </thead>\n",
       "  <tbody>\n",
       "    <tr>\n",
       "      <th>0</th>\n",
       "      <td>-122.230003</td>\n",
       "      <td>37.880001</td>\n",
       "      <td>41.0</td>\n",
       "      <td>880.0</td>\n",
       "      <td>129.0</td>\n",
       "      <td>322.0</td>\n",
       "      <td>126.0</td>\n",
       "      <td>8.3252</td>\n",
       "      <td>452600.0</td>\n",
       "      <td>NEAR BAY</td>\n",
       "    </tr>\n",
       "    <tr>\n",
       "      <th>1</th>\n",
       "      <td>-122.220001</td>\n",
       "      <td>37.860001</td>\n",
       "      <td>21.0</td>\n",
       "      <td>7099.0</td>\n",
       "      <td>1106.0</td>\n",
       "      <td>2401.0</td>\n",
       "      <td>1138.0</td>\n",
       "      <td>8.3014</td>\n",
       "      <td>358500.0</td>\n",
       "      <td>NEAR BAY</td>\n",
       "    </tr>\n",
       "    <tr>\n",
       "      <th>2</th>\n",
       "      <td>-122.239998</td>\n",
       "      <td>37.849998</td>\n",
       "      <td>52.0</td>\n",
       "      <td>1467.0</td>\n",
       "      <td>190.0</td>\n",
       "      <td>496.0</td>\n",
       "      <td>177.0</td>\n",
       "      <td>7.2574</td>\n",
       "      <td>352100.0</td>\n",
       "      <td>NEAR BAY</td>\n",
       "    </tr>\n",
       "    <tr>\n",
       "      <th>3</th>\n",
       "      <td>-122.250000</td>\n",
       "      <td>37.849998</td>\n",
       "      <td>52.0</td>\n",
       "      <td>1274.0</td>\n",
       "      <td>235.0</td>\n",
       "      <td>558.0</td>\n",
       "      <td>219.0</td>\n",
       "      <td>5.6431</td>\n",
       "      <td>341300.0</td>\n",
       "      <td>NEAR BAY</td>\n",
       "    </tr>\n",
       "    <tr>\n",
       "      <th>4</th>\n",
       "      <td>-122.250000</td>\n",
       "      <td>37.849998</td>\n",
       "      <td>52.0</td>\n",
       "      <td>1627.0</td>\n",
       "      <td>280.0</td>\n",
       "      <td>565.0</td>\n",
       "      <td>259.0</td>\n",
       "      <td>3.8462</td>\n",
       "      <td>342200.0</td>\n",
       "      <td>NEAR BAY</td>\n",
       "    </tr>\n",
       "  </tbody>\n",
       "</table>\n",
       "</div>"
      ],
      "text/plain": [
       "    longitude   latitude  housing_median_age  total_rooms  total_bedrooms  \\\n",
       "0 -122.230003  37.880001                41.0        880.0           129.0   \n",
       "1 -122.220001  37.860001                21.0       7099.0          1106.0   \n",
       "2 -122.239998  37.849998                52.0       1467.0           190.0   \n",
       "3 -122.250000  37.849998                52.0       1274.0           235.0   \n",
       "4 -122.250000  37.849998                52.0       1627.0           280.0   \n",
       "\n",
       "   population  households  median_income  median_house_value ocean_proximity  \n",
       "0       322.0       126.0         8.3252            452600.0        NEAR BAY  \n",
       "1      2401.0      1138.0         8.3014            358500.0        NEAR BAY  \n",
       "2       496.0       177.0         7.2574            352100.0        NEAR BAY  \n",
       "3       558.0       219.0         5.6431            341300.0        NEAR BAY  \n",
       "4       565.0       259.0         3.8462            342200.0        NEAR BAY  "
      ]
     },
     "execution_count": 3,
     "metadata": {},
     "output_type": "execute_result"
    }
   ],
   "source": [
    "# Parquet files have much smaller size than csv\n",
    "filename = 'housing.parquet'\n",
    "data = pd.read_parquet(filename)\n",
    "data.head()"
   ]
  },
  {
   "cell_type": "code",
   "execution_count": 4,
   "metadata": {},
   "outputs": [
    {
     "name": "stdout",
     "output_type": "stream",
     "text": [
      "<class 'pandas.core.frame.DataFrame'>\n",
      "RangeIndex: 20640 entries, 0 to 20639\n",
      "Data columns (total 10 columns):\n",
      " #   Column              Non-Null Count  Dtype   \n",
      "---  ------              --------------  -----   \n",
      " 0   longitude           20640 non-null  float32 \n",
      " 1   latitude            20640 non-null  float32 \n",
      " 2   housing_median_age  20640 non-null  float32 \n",
      " 3   total_rooms         20640 non-null  float32 \n",
      " 4   total_bedrooms      20433 non-null  float32 \n",
      " 5   population          20640 non-null  float32 \n",
      " 6   households          20640 non-null  float32 \n",
      " 7   median_income       20640 non-null  float32 \n",
      " 8   median_house_value  20640 non-null  float32 \n",
      " 9   ocean_proximity     20640 non-null  category\n",
      "dtypes: category(1), float32(9)\n",
      "memory usage: 746.1 KB\n"
     ]
    }
   ],
   "source": [
    "data.info()"
   ]
  },
  {
   "cell_type": "markdown",
   "metadata": {},
   "source": [
    "I see null values in `total_bedrooms` that must be addressed"
   ]
  },
  {
   "cell_type": "code",
   "execution_count": 5,
   "metadata": {},
   "outputs": [
    {
     "data": {
      "text/plain": [
       "ocean_proximity\n",
       "<1H OCEAN     9136\n",
       "INLAND        6551\n",
       "NEAR OCEAN    2658\n",
       "NEAR BAY      2290\n",
       "ISLAND           5\n",
       "dtype: int64"
      ]
     },
     "execution_count": 5,
     "metadata": {},
     "output_type": "execute_result"
    }
   ],
   "source": [
    "data.value_counts('ocean_proximity')"
   ]
  },
  {
   "cell_type": "code",
   "execution_count": 6,
   "metadata": {},
   "outputs": [
    {
     "name": "stdout",
     "output_type": "stream",
     "text": [
      "Housing file size on disk is: 0.37 MB\n",
      "The total number of records is 20,640 rows\n"
     ]
    }
   ],
   "source": [
    "# file = filename.split('.')[0] + '.csv'\n",
    "size = os.path.getsize(filename) / (1024 * 1024)\n",
    "print(f'''{filename.split('.')[0].capitalize()} file size on disk is: {size:.2f} MB\n",
    "The total number of records is {len(data):,} rows''')"
   ]
  },
  {
   "cell_type": "markdown",
   "metadata": {},
   "source": [
    "The size of the data is relatively small, so we have no storage issues to worry about. Let's move on to the last step: sample the data. \n",
    "\n",
    "### 2.11 Sample the Data (split):\n",
    "\n",
    "Data split must be done before plotting the data to avoid data snooping bias. The typical test size is 20%.\n",
    "\n",
    "**There are two main ways to do it:**\n",
    "\n",
    "1. Using sklearn's `train_test_split`. Set `random` key to some constant to ensure re-producability, and set `stratify` to a category column for unbiased sampling.\n",
    "2. Using hashing like `crc32` which returns an integer that ranges between $[0, 2^{32}]$. The way to use it is to calculate `crc32` for each row in a column, usually the index, then sort and select the top, or bottom, 20% (test size) of the result as your train index. \n",
    "\n",
    "This is a very critical step that is often overlooked. The standard techniques, such as scikit-learn's `train_test_split` although good for a one time training, but not suitable for live models (ones that train on new data all the time).\n",
    "\n",
    "If your model is live, it will get new data periodically to train on, to keep it up-to-date. The new data can be either be appended to the old one, or replace part of it.   \n",
    "The challange becomes on how to re-split the appended set without changing the previous split. i.e. if a record was previously in the test set, we want it to remain there when we split again.\n",
    "\n",
    "The problem with the traditional split techniques that they expose the model to both training and testing sets over time, because of the randomness involved in splitting. \n",
    "\n",
    "We need something that retins the old splitting when performing a new one for the appended data. To accomplish this, you can either save a hard copy of each set, then split and append the new sets to each one on file. Using a unique identifier, or a hashing technique ensures each record will be in the same set no matter how many times we split."
   ]
  },
  {
   "cell_type": "code",
   "execution_count": 7,
   "metadata": {},
   "outputs": [
    {
     "data": {
      "image/png": "[encoded data removed]",
      "text/plain": [
       "<Figure size 864x288 with 2 Axes>"
      ]
     },
     "metadata": {
      "needs_background": "light"
     },
     "output_type": "display_data"
    }
   ],
   "source": [
    "# Stratified sampling ensures the split retinas the distribution across a selected category\n",
    "# Add a meaningfull categories from median_income. This is common in real-life \n",
    "# where people are categorized based on their income into groupe ($0-15k, $15K -30K..etc)\n",
    "\n",
    "inf = float('inf')\n",
    "labels = [1,2,3,4,5]\n",
    "\n",
    "# Custom function that discretize a variable into equal-sized buckets\n",
    "# Similarly you can use `qcut` from pandas, which yeilds same results\n",
    "# df_eq = lib.gen_equal_length_cat_col(df, 'median_income', 5)\n",
    "med_income_cat_eq = pd.qcut(data.median_income, q=5, labels=labels)\n",
    "\n",
    "# Alternatively we can discritize median income into custom buckets that makes economic sense\n",
    "bins = [0.,1.5,3.,4.5,6.,inf] #1.5 represents an income of $15k/year\n",
    "\n",
    "med_income_cat_custom = pd.cut(data['median_income'], bins=bins, labels=labels)\n",
    "\n",
    "##Plot the two different discritization methods\n",
    "fig, (ax1,ax2) = plt.subplots(1,2,sharey=True, figsize=(12,4))\n",
    "ax1.hist(med_income_cat_eq, label='equal median income')\n",
    "ax2.hist(med_income_cat_custom, label='custom median income')\n",
    "ax1.set_xticks([1,2,3,4,5])\n",
    "ax1.set_xticklabels(['0-$15k','$15k-30k','$30k-45k','$45k-60','>$60'])\n",
    "ax2.set_xticks([1,2,3,4,5])\n",
    "ax2.set_xticklabels(['0-$15k','$15k-30k','$30k-45k','$45k-60','>$60'])\n",
    "ax1.legend()\n",
    "ax2.legend()\n",
    "plt.tight_layout()"
   ]
  },
  {
   "cell_type": "code",
   "execution_count": 11,
   "metadata": {},
   "outputs": [],
   "source": [
    "from sklearn.model_selection import train_test_split\n",
    "#\n",
    "SEED=42\n",
    "\n",
    "train_idx, test_idx = train_test_split(data.index, random_state=SEED, stratify=med_income_cat_custom)\n",
    "df = data.iloc[train_idx].reset_index(drop=True)\n",
    "test_set = data.iloc[test_idx].reset_index(drop=True)\n",
    "\n",
    "# Save test data on disk and never look at it until settle on a model\n",
    "test_set.to_parquet('housing_test.parquet')\n",
    "df.to_parquet('housing_train.parquet')"
   ]
  },
  {
   "cell_type": "code",
   "execution_count": 13,
   "metadata": {},
   "outputs": [
    {
     "data": {
      "text/plain": [
       "(15480, 5160)"
      ]
     },
     "execution_count": 13,
     "metadata": {},
     "output_type": "execute_result"
    }
   ],
   "source": [
    "len(df), len(test_set)"
   ]
  },
  {
   "cell_type": "code",
   "execution_count": 18,
   "metadata": {},
   "outputs": [
    {
     "data": {
      "text/plain": [
       "1    0.039793\n",
       "2    0.318863\n",
       "3    0.350581\n",
       "4    0.176292\n",
       "5    0.114470\n",
       "Name: median_income, dtype: float64"
      ]
     },
     "execution_count": 18,
     "metadata": {},
     "output_type": "execute_result"
    }
   ],
   "source": [
    "# check the value count of median income categories in training set\n",
    "(med_income_cat_custom.iloc[train_idx].value_counts()/len(train_idx)).sort_index()"
   ]
  },
  {
   "cell_type": "code",
   "execution_count": 19,
   "metadata": {},
   "outputs": [
    {
     "data": {
      "text/plain": [
       "1    0.039922\n",
       "2    0.318798\n",
       "3    0.350581\n",
       "4    0.176357\n",
       "5    0.114341\n",
       "Name: median_income, dtype: float64"
      ]
     },
     "execution_count": 19,
     "metadata": {},
     "output_type": "execute_result"
    }
   ],
   "source": [
    "# check the value count of median income categories in test set\n",
    "(med_income_cat_custom.iloc[test_idx].value_counts()/len(test_idx)).sort_index()"
   ]
  },
  {
   "cell_type": "markdown",
   "metadata": {},
   "source": [
    "## 3. Explore the Data \n",
    "After taking a quick look on the data structure I'm going split the data into training and testing sets\n",
    "\n",
    "Note: try to get insights from a field expert for these steps.\n",
    "1. Create a copy of the data for exploration (sampling it down to a manageable size\n",
    "if necessary).\n",
    "2. Create a Jupyter notebook to keep a record of your data exploration.\n",
    "3. Study each attribute and its characteristics:  \n",
    "    • Name  \n",
    "    • Type (categorical, int/float, bounded/unbounded, text, structured, etc.)  \n",
    "    • % of missing values  \n",
    "    • Noisiness and type of noise (stochastic, outliers, rounding errors, etc.)  \n",
    "    • Usefulness for the task  \n",
    "    • Type of distribution (Gaussian, uniform, logarithmic, etc.)  \n",
    "4. For supervised learning tasks, identify the target attribute(s).\n",
    "5. Visualize the data.\n",
    "6. Study the correlations between attributes.\n",
    "7. Study how you would solve the problem manually.\n",
    "8. Identify the promising transformations you may want to apply.\n",
    "9. Identify extra data that would be useful.\n",
    "10. Document what you have learned."
   ]
  },
  {
   "cell_type": "code",
   "execution_count": 25,
   "metadata": {},
   "outputs": [
    {
     "data": {
      "image/png": "[encoded data removed]",
      "text/plain": [
       "<Figure size 576x360 with 2 Axes>"
      ]
     },
     "metadata": {
      "needs_background": "light"
     },
     "output_type": "display_data"
    }
   ],
   "source": [
    "df.plot(x='latitude',y='longitude',\n",
    "        kind='scatter', alpha=0.2,\n",
    "        c='median_house_value', cmap='jet',\n",
    "        s=df.population/100,\n",
    "       figsize=(8,5));\n",
    "plt.tight_layout()"
   ]
  },
  {
   "cell_type": "code",
   "execution_count": null,
   "metadata": {},
   "outputs": [],
   "source": []
  },
  {
   "cell_type": "markdown",
   "metadata": {},
   "source": [
    "## 4. Prepare the data:\n",
    "Try to expose underlying data patterns to Machine Learnring algorithms\n",
    "\n",
    "- Work on copies of the data (keep the original dataset intact).\n",
    "- Write functions for all data transformations you apply, for five reasons:  \n",
    "    1. So you can easily prepare the data the next time you get a fresh dataset  \n",
    "    2. So you can apply these transformations in future projects  \n",
    "    3. To clean and prepare the test set  \n",
    "    4. To clean and prepare new data instances once your solution is live  \n",
    "    5. To make it easy to treat your preparation choices as hyperparameters  \n",
    "1. Data cleaning:\n",
    "    1. Fix or remove outliers (optional).\n",
    "    2. Fill in missing values (e.g., with zero, mean, median…) or drop their rows (or columns).\n",
    "2. Feature selection (optional):\n",
    "    1. Drop the attributes that provide no useful information for the task.\n",
    "3. Feature engineering, where appropriate:\n",
    "    1. Discretize continuous features.\n",
    "    2. Decompose features (e.g., categorical, date/time, etc.).\n",
    "    3. Add promising transformations of features (e.g., log(x), sqrt(x), x 2 , etc.).\n",
    "    4. Aggregate features into promising new features.\n",
    "4. Feature scaling:\n",
    "    1. Standardize or normalize features.\n",
    "    2. Decompose features (e.g., categorical, date/time, etc.).\n",
    "    3. Add promising transformations of features (e.g., log(x), sqrt(x), x 2 , etc.).\n",
    "    4. Aggregate features into promising new features.\n",
    "4. Feature scaling:\n",
    "    1. Standardize or normalize features."
   ]
  },
  {
   "cell_type": "code",
   "execution_count": null,
   "metadata": {},
   "outputs": [],
   "source": []
  },
  {
   "cell_type": "markdown",
   "metadata": {},
   "source": [
    "## 5. Explore Different Models:\n",
    "In this step you should explore different models and parameters and pick the one with best metrics defined in step 1.2\n",
    "\n",
    "\n",
    "- If the data is huge, you may want to sample smaller training sets so you can train\n",
    "many different models in a reasonable time (be aware that this penalizes complex\n",
    "models such as large neural nets or Random Forests).\n",
    "- Once again, try to automate these steps as much as possible.\n",
    "1. Train many quick-and-dirty models from different categories (e.g., linear, naive\n",
    "    1. Bayes, SVM, Random Forest, neural net, etc.) using standard parameters.\n",
    "2. Measure and compare their performance.\n",
    "    1. For each model, use N-fold cross-validation and compute the mean and standard deviation of the performance measure on the N folds.\n",
    "3. Analyze the most significant variables for each algorithm.\n",
    "4. Analyze the types of errors the models make.\n",
    "    1. What data would a human have used to avoid these errors?\n",
    "5. Perform a quick round of feature selection and engineering.\n",
    "6. Perform one or two more quick iterations of the five previous steps.\n",
    "7. Shortlist the top three to five most promising models, preferring models that make different types of errors."
   ]
  },
  {
   "cell_type": "code",
   "execution_count": null,
   "metadata": {},
   "outputs": [],
   "source": []
  },
  {
   "cell_type": "markdown",
   "metadata": {},
   "source": [
    "## 6. Fine-tune the model:\n",
    "\n",
    "- You will want to use as much data as possible for this step, especially as you move\n",
    "toward the end of fine-tuning.\n",
    "\n",
    "- As always, automate what you can.\n",
    "1. Fine-tune the hyperparameters using cross-validation:\n",
    "    1. Treat your data transformation choices as hyperparameters, especially when you are not sure about them (e.g., if you’re not sure whether to replace missing values with zeros or with the median value, or to just drop the rows).\n",
    "    2. Unless there are very few hyperparameter values to explore, prefer random search over grid search. If training is very long, you may prefer a Bayesian optimization approach (e.g., using Gaussian process priors, as described by Jasper Snoek et al.). 1\n",
    "2. Try Ensemble methods. Combining your best models will often produce better performance than running them individually.\n",
    "3. Once you are confident about your final model, measure its performance on the test set to estimate the generalization error.\n",
    "\n",
    "Don’t tweak your model after measuring the generalization error: you would just start overfitting the test set."
   ]
  },
  {
   "cell_type": "code",
   "execution_count": null,
   "metadata": {},
   "outputs": [],
   "source": []
  },
  {
   "cell_type": "markdown",
   "metadata": {},
   "source": [
    "## 7. Present Solution\n",
    "\n",
    "1. Document what you have done.\n",
    "2. Create a nice presentation.\n",
    "    1. Make sure you highlight the big picture first.\n",
    "3. Explain why your solution achieves the business objective.\n",
    "4. Don’t forget to present interesting points you noticed along the way.\n",
    "    1. Describe what worked and what did not.\n",
    "    2. List your assumptions and your system’s limitations.\n",
    "5. Ensure your key findings are communicated through beautiful visualizations or easy-to-remember statements (e.g., “the median income is the number-one predictor of housing prices”)."
   ]
  },
  {
   "cell_type": "code",
   "execution_count": null,
   "metadata": {},
   "outputs": [],
   "source": []
  },
  {
   "cell_type": "markdown",
   "metadata": {},
   "source": [
    "## 8. Launch \n",
    "This the final stage at which your model sould be ready, and you're about to roll it out into production environment and set the procedures to maintain and monitor it\n",
    "\n",
    "1. Get your solution ready for production (plug into production data inputs, write unit tests, etc.).\n",
    "2. Write monitoring code to check your system’s live performance at regular intervals and trigger alerts when it drops.\n",
    "    1. Beware of slow degradation: models tend to “rot” as data evolves.\n",
    "    2. Measuring performance may require a human pipeline (e.g., via a crowdsourcing service).\n",
    "    3. Also monitor your inputs’ quality (e.g., a malfunctioning sensor sending random values, or another team’s output becoming stale). This is particularly important for online learning systems.\n",
    "3. Retrain your models on a regular basis on fresh data (automate as much as possible)."
   ]
  },
  {
   "cell_type": "code",
   "execution_count": null,
   "metadata": {},
   "outputs": [],
   "source": []
  },
  {
   "cell_type": "code",
   "execution_count": null,
   "metadata": {},
   "outputs": [],
   "source": []
  },
  {
   "cell_type": "code",
   "execution_count": null,
   "metadata": {},
   "outputs": [],
   "source": []
  },
  {
   "cell_type": "code",
   "execution_count": null,
   "metadata": {},
   "outputs": [],
   "source": []
  },
  {
   "cell_type": "code",
   "execution_count": null,
   "metadata": {},
   "outputs": [],
   "source": []
  },
  {
   "cell_type": "markdown",
   "metadata": {},
   "source": [
    "This is a key step in any analysis that protects participants from drifting away from the main objective. Many data-scientist fall into this trap when they become more focused on the problem instead of a solution. I know that finding a better way to code functions, trying different algorithms and scaling techniques is fun! But it's an endless rabbit hole. So don't get lost in it, especially if someone is paying you to find a solution for their problem and you have limited time to do that!"
   ]
  },
  {
   "cell_type": "code",
   "execution_count": null,
   "metadata": {},
   "outputs": [],
   "source": []
  },
  {
   "cell_type": "code",
   "execution_count": null,
   "metadata": {},
   "outputs": [],
   "source": []
  },
  {
   "cell_type": "markdown",
   "metadata": {},
   "source": [
    "# Appendix:\n",
    "\n",
    "Summary of the steps\n",
    "### 1.1 Define the Objective in business Terms\n",
    "\n",
    "1. Define the objective in business terms.\n",
    "2. How will your solution be used?\n",
    "3. What are the current solutions/workarounds (if any)?\n",
    "4. How should you frame this problem (supervised/unsupervised, online/offline, etc.)?\n",
    "5. How should performance be measured?\n",
    "6. Is the performance measure aligned with the business objective?\n",
    "7. What would be the minimum performance needed to reach the business objec‐ tive?\n",
    "8. What are comparable problems? Can you reuse experience or tools?\n",
    "9. Is human expertise available?\n",
    "10. How would you solve the problem manually?\n",
    "11. List the assumptions you (or others) have made so far.\n",
    "12. Verify assumptions if possible.\n"
   ]
  },
  {
   "cell_type": "code",
   "execution_count": null,
   "metadata": {},
   "outputs": [],
   "source": []
  }
 ],
 "metadata": {
  "kernelspec": {
   "display_name": "Python 3",
   "language": "python",
   "name": "python3"
  },
  "language_info": {
   "codemirror_mode": {
    "name": "ipython",
    "version": 3
   },
   "file_extension": ".py",
   "mimetype": "text/x-python",
   "name": "python",
   "nbconvert_exporter": "python",
   "pygments_lexer": "ipython3",
   "version": "3.8.3"
  }
 },
 "nbformat": 4,
 "nbformat_minor": 4
}
