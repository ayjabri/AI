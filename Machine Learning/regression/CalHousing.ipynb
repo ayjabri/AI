{
 "cells": [
  {
   "cell_type": "markdown",
   "metadata": {},
   "source": [
    "# California Housing (1990s)\n",
    "\n",
    "\n",
    "This is a typical dataset used to demonstrate Machine Learning algorithms in many books and online courses. The set contains Housing prices in California from the 1990s, which makes it kinda dated if you're looking to get actual predictions out of it, but that doesn't mean we can't use it to train models and compare them effectively! \n",
    "\n",
    "Without furthur adue, let me start by listing the steps (pipeline) I'm going to follow in this project. It is taken from Aurélien Géron's \"Hands-On Machine Learning with Scikit-Learn, Keras, and TensorFlow\" Appendix B.\n",
    "\n",
    "\n",
    "> \"There are eight main steps:\n",
    "> 1. Frame the problem and look at the big picture.\n",
    "> 2. Get the data.\n",
    "> 3. Explore the data to gain insights.\n",
    "> 4. Prepare the data to better expose the underlying data patterns to Machine Learning algorithms.\n",
    "> 5. Explore many different models and shortlist the best ones.\n",
    "> 6. Fine-tune your models and combine them into a great solution.\n",
    "> 7. Present your solution.\n",
    "> 8. Launch, monitor, and maintain your system.\n",
    "> Obviously, you should feel free to adapt this checklist to your needs.\"\n",
    "\n",
    "I'm going to break each point down to smaller steps, which will help ticking each one's box before moving on to the next one"
   ]
  },
  {
   "cell_type": "code",
   "execution_count": 1,
   "metadata": {},
   "outputs": [],
   "source": [
    "import lib"
   ]
  },
  {
   "cell_type": "code",
   "execution_count": 3,
   "metadata": {},
   "outputs": [
    {
     "ename": "TypeError",
     "evalue": "fetch_online_zip_file() takes 2 positional arguments but 3 were given",
     "output_type": "error",
     "traceback": [
      "\u001b[0;31m---------------------------------------------------------------------------\u001b[0m",
      "\u001b[0;31mTypeError\u001b[0m                                 Traceback (most recent call last)",
      "\u001b[0;32m<ipython-input-3-ac9b77507bd8>\u001b[0m in \u001b[0;36m<module>\u001b[0;34m\u001b[0m\n\u001b[1;32m      1\u001b[0m \u001b[0mURL\u001b[0m \u001b[0;34m=\u001b[0m \u001b[0;34m'https://github.com/ageron/handson-ml2/raw/master/datasets/housing'\u001b[0m\u001b[0;34m\u001b[0m\u001b[0;34m\u001b[0m\u001b[0m\n\u001b[1;32m      2\u001b[0m \u001b[0mfilename\u001b[0m \u001b[0;34m=\u001b[0m \u001b[0;34m'housing.tgz'\u001b[0m\u001b[0;34m\u001b[0m\u001b[0;34m\u001b[0m\u001b[0m\n\u001b[0;32m----> 3\u001b[0;31m \u001b[0mlib\u001b[0m\u001b[0;34m.\u001b[0m\u001b[0mfetch_online_zip_file\u001b[0m\u001b[0;34m(\u001b[0m\u001b[0mURL\u001b[0m\u001b[0;34m,\u001b[0m \u001b[0mfilename\u001b[0m\u001b[0;34m,\u001b[0m \u001b[0;32mTrue\u001b[0m\u001b[0;34m)\u001b[0m\u001b[0;34m\u001b[0m\u001b[0;34m\u001b[0m\u001b[0m\n\u001b[0m",
      "\u001b[0;31mTypeError\u001b[0m: fetch_online_zip_file() takes 2 positional arguments but 3 were given"
     ]
    }
   ],
   "source": [
    "URL = 'https://github.com/ageron/handson-ml2/raw/master/datasets/housing'\n",
    "filename = 'housing.tgz'\n",
    "lib.fetch_online_zip_file(URL, filename, True)"
   ]
  },
  {
   "cell_type": "code",
   "execution_count": null,
   "metadata": {},
   "outputs": [],
   "source": []
  },
  {
   "cell_type": "markdown",
   "metadata": {},
   "source": [
    "This is a key step in any analysis that protects participants from drifting away from the main objective. Many data-scientist fall into this trap when they become more focused on the problem instead of a solution. I know that finding a better way to code functions, trying different algorithms and scaling techniques is fun! But it's an endless rabbit hole. So don't get lost in it, especially if someone is paying you to find a solution for their problem and you have limited time to do that!"
   ]
  },
  {
   "cell_type": "code",
   "execution_count": null,
   "metadata": {},
   "outputs": [],
   "source": []
  },
  {
   "cell_type": "code",
   "execution_count": null,
   "metadata": {},
   "outputs": [],
   "source": []
  }
 ],
 "metadata": {
  "kernelspec": {
   "display_name": "Python 3",
   "language": "python",
   "name": "python3"
  },
  "language_info": {
   "codemirror_mode": {
    "name": "ipython",
    "version": 3
   },
   "file_extension": ".py",
   "mimetype": "text/x-python",
   "name": "python",
   "nbconvert_exporter": "python",
   "pygments_lexer": "ipython3",
   "version": "3.9.6"
  }
 },
 "nbformat": 4,
 "nbformat_minor": 4
}
